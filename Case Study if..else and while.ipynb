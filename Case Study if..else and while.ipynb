{
 "cells": [
  {
   "cell_type": "markdown",
   "id": "0595dbd7",
   "metadata": {},
   "source": [
    "#Cassity Martin\n",
    "#M02 Lab - Case Study\n",
    "#Write a Python app that will accept student names and GPAs and test if the student qualifies for either the Dean's List or the Honor Roll"
   ]
  },
  {
   "cell_type": "code",
   "execution_count": null,
   "id": "5c90f6ec",
   "metadata": {},
   "outputs": [],
   "source": [
    "lastname = input(\"Students last name: \")\n",
    "firstname = input(\"Students first name: \")\n",
    "gpa = float(input(\"Enter students gpa: \"))\n",
    "while gpa >= 3.5:\n",
    "    print(firstname,lastname,\"made Dean's List!\")\n",
    "    if gpa >= 3.25:\n",
    "        print(firstname, lastname,\"made Honor Roll!\")\n",
    "        break\n",
    "    else:\n",
    "        lastname = \"zzz\"\n",
    "        break"
   ]
  },
  {
   "cell_type": "code",
   "execution_count": null,
   "id": "161ab188",
   "metadata": {},
   "outputs": [],
   "source": []
  }
 ],
 "metadata": {
  "kernelspec": {
   "display_name": "Python 3 (ipykernel)",
   "language": "python",
   "name": "python3"
  },
  "language_info": {
   "codemirror_mode": {
    "name": "ipython",
    "version": 3
   },
   "file_extension": ".py",
   "mimetype": "text/x-python",
   "name": "python",
   "nbconvert_exporter": "python",
   "pygments_lexer": "ipython3",
   "version": "3.9.12"
  }
 },
 "nbformat": 4,
 "nbformat_minor": 5
}
